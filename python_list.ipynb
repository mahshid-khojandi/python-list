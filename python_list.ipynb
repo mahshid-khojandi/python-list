{
  "nbformat": 4,
  "nbformat_minor": 0,
  "metadata": {
    "colab": {
      "provenance": [],
      "authorship_tag": "ABX9TyNB+yeBI8v5nBH9P6i0yU77",
      "include_colab_link": true
    },
    "kernelspec": {
      "name": "python3",
      "display_name": "Python 3"
    },
    "language_info": {
      "name": "python"
    }
  },
  "cells": [
    {
      "cell_type": "markdown",
      "metadata": {
        "id": "view-in-github",
        "colab_type": "text"
      },
      "source": [
        "<a href=\"https://colab.research.google.com/github/mahshid-khojandi/python-list/blob/main/python_list.ipynb\" target=\"_parent\"><img src=\"https://colab.research.google.com/assets/colab-badge.svg\" alt=\"Open In Colab\"/></a>"
      ]
    },
    {
      "cell_type": "code",
      "source": [
        "lists = [1, 2, 3]\n",
        "print (type(list))"
      ],
      "metadata": {
        "colab": {
          "base_uri": "https://localhost:8080/"
        },
        "id": "Asa4HLp0X8n6",
        "outputId": "7243857a-e8a2-499d-8f99-9928febf52bd"
      },
      "execution_count": 2,
      "outputs": [
        {
          "output_type": "stream",
          "name": "stdout",
          "text": [
            "<class 'list'>\n"
          ]
        }
      ]
    },
    {
      "cell_type": "code",
      "source": [
        "names = ['sara', 'jay', 12 , 14.6]\n",
        "print (names)"
      ],
      "metadata": {
        "colab": {
          "base_uri": "https://localhost:8080/"
        },
        "id": "drRb2_AgYiNc",
        "outputId": "459d29d4-7ad0-4443-c7e0-d6e7ea1f3df2"
      },
      "execution_count": 3,
      "outputs": [
        {
          "output_type": "stream",
          "name": "stdout",
          "text": [
            "['sara', 'jay', 12, 14.6]\n"
          ]
        }
      ]
    },
    {
      "cell_type": "code",
      "source": [
        "# indexing returs the item\n",
        "names = ['a', 'b', 'c', 'd']\n",
        "print (names[0])\n",
        "print (names[1])\n",
        "print (names[2])\n",
        "print (names[-1])"
      ],
      "metadata": {
        "colab": {
          "base_uri": "https://localhost:8080/"
        },
        "id": "3bpiDq3hY1KN",
        "outputId": "196b5ff6-1178-48ed-907c-93c07acf5ccc"
      },
      "execution_count": 6,
      "outputs": [
        {
          "output_type": "stream",
          "name": "stdout",
          "text": [
            "a\n",
            "b\n",
            "c\n",
            "d\n"
          ]
        }
      ]
    },
    {
      "cell_type": "code",
      "source": [
        "# slicing returs a new list\n",
        "names = ['a', 'b', 'c', 'd']\n",
        "print (names[1:])\n",
        "print (names[:-3])\n",
        "print (names[:])"
      ],
      "metadata": {
        "colab": {
          "base_uri": "https://localhost:8080/"
        },
        "id": "T8Ahg9yKZUuS",
        "outputId": "d56a38b7-0896-4d86-ba0b-ff843f6a2b1c"
      },
      "execution_count": 9,
      "outputs": [
        {
          "output_type": "stream",
          "name": "stdout",
          "text": [
            "['b', 'c', 'd']\n",
            "['a']\n",
            "['a', 'b', 'c', 'd']\n"
          ]
        }
      ]
    },
    {
      "cell_type": "code",
      "source": [
        "names = ['a', 'b', 'c', 'd']\n",
        "lists = [1, 2, 3]\n",
        "print (names + lists)"
      ],
      "metadata": {
        "colab": {
          "base_uri": "https://localhost:8080/"
        },
        "id": "riRVsQD6aAlQ",
        "outputId": "cfb69826-85a6-4a5e-a5cf-b7b491944dd5"
      },
      "execution_count": 10,
      "outputs": [
        {
          "output_type": "stream",
          "name": "stdout",
          "text": [
            "['a', 'b', 'c', 'd', 1, 2, 3]\n"
          ]
        }
      ]
    },
    {
      "cell_type": "code",
      "source": [
        "# lists are mutable type\n",
        "names = ['a', 'b', 'c', 'd']\n",
        "names[2] = 12\n",
        "print (names)"
      ],
      "metadata": {
        "colab": {
          "base_uri": "https://localhost:8080/"
        },
        "id": "J8d_v2_Vae6l",
        "outputId": "8690fc63-1f11-4aac-a58c-81293a30b401"
      },
      "execution_count": 11,
      "outputs": [
        {
          "output_type": "stream",
          "name": "stdout",
          "text": [
            "['a', 'b', 12, 'd']\n"
          ]
        }
      ]
    },
    {
      "cell_type": "code",
      "source": [
        "# add new items at the end of list\n",
        "names = ['a', 'b', 'c', 'd']\n",
        "names.append (12)\n",
        "print(names)"
      ],
      "metadata": {
        "colab": {
          "base_uri": "https://localhost:8080/"
        },
        "id": "xdBVG4zKbBci",
        "outputId": "962a16c2-689a-4fee-aa44-f26d667ffec2"
      },
      "execution_count": 12,
      "outputs": [
        {
          "output_type": "stream",
          "name": "stdout",
          "text": [
            "['a', 'b', 'c', 'd', 12]\n"
          ]
        }
      ]
    },
    {
      "cell_type": "code",
      "source": [
        "# remove\n",
        "names = ['a', 'b', 'c', 'd']\n",
        "names [:] = []\n",
        "print(names)"
      ],
      "metadata": {
        "colab": {
          "base_uri": "https://localhost:8080/"
        },
        "id": "6MohOFPPbcC_",
        "outputId": "f96e27f2-a3d2-4e94-a190-c284ebd6cbf2"
      },
      "execution_count": 13,
      "outputs": [
        {
          "output_type": "stream",
          "name": "stdout",
          "text": [
            "[]\n"
          ]
        }
      ]
    },
    {
      "cell_type": "code",
      "source": [
        "names = ['a', 'b', 'c', 'd']\n",
        "names [1:] = []\n",
        "print(names)"
      ],
      "metadata": {
        "colab": {
          "base_uri": "https://localhost:8080/"
        },
        "id": "E-hHIRPtbm9n",
        "outputId": "38b1f884-cfca-4d6a-bd4f-333d0cd5c2dd"
      },
      "execution_count": 15,
      "outputs": [
        {
          "output_type": "stream",
          "name": "stdout",
          "text": [
            "['a']\n"
          ]
        }
      ]
    },
    {
      "cell_type": "code",
      "source": [
        "names = ['a', 'b', 'c', 'd']\n",
        "print (len(names))"
      ],
      "metadata": {
        "colab": {
          "base_uri": "https://localhost:8080/"
        },
        "id": "vgaMZ7yib-yf",
        "outputId": "72cd795b-1e0c-421d-83c2-fb4f81eb9fef"
      },
      "execution_count": 16,
      "outputs": [
        {
          "output_type": "stream",
          "name": "stdout",
          "text": [
            "4\n"
          ]
        }
      ]
    }
  ]
}